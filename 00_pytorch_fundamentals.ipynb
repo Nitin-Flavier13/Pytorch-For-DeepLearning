{
  "nbformat": 4,
  "nbformat_minor": 0,
  "metadata": {
    "colab": {
      "provenance": [],
      "gpuType": "T4",
      "authorship_tag": "ABX9TyOJuRubVcko2zSVSGSjIznz",
      "include_colab_link": true
    },
    "kernelspec": {
      "name": "python3",
      "display_name": "Python 3"
    },
    "language_info": {
      "name": "python"
    },
    "accelerator": "GPU"
  },
  "cells": [
    {
      "cell_type": "markdown",
      "metadata": {
        "id": "view-in-github",
        "colab_type": "text"
      },
      "source": [
        "<a href=\"https://colab.research.google.com/github/Nitin-Flavier13/Pytorch-For-DeepLearning/blob/main/00_pytorch_fundamentals.ipynb\" target=\"_parent\"><img src=\"https://colab.research.google.com/assets/colab-badge.svg\" alt=\"Open In Colab\"/></a>"
      ]
    },
    {
      "cell_type": "code",
      "execution_count": null,
      "metadata": {
        "colab": {
          "base_uri": "https://localhost:8080/"
        },
        "id": "JUKVkfyYo2kK",
        "outputId": "6dc8b513-a25d-4426-ff25-a61aa7cff69f"
      },
      "outputs": [
        {
          "output_type": "stream",
          "name": "stdout",
          "text": [
            "hello nitin\n"
          ]
        }
      ],
      "source": [
        "print(\"hello nitin\")"
      ]
    },
    {
      "cell_type": "code",
      "source": [
        "!nvidia-smi"
      ],
      "metadata": {
        "colab": {
          "base_uri": "https://localhost:8080/"
        },
        "id": "8Ulb-cXapdup",
        "outputId": "84096679-4655-469e-9e14-18e0dae360a4"
      },
      "execution_count": 15,
      "outputs": [
        {
          "output_type": "stream",
          "name": "stdout",
          "text": [
            "Sun Feb 16 05:50:48 2025       \n",
            "+-----------------------------------------------------------------------------------------+\n",
            "| NVIDIA-SMI 550.54.15              Driver Version: 550.54.15      CUDA Version: 12.4     |\n",
            "|-----------------------------------------+------------------------+----------------------+\n",
            "| GPU  Name                 Persistence-M | Bus-Id          Disp.A | Volatile Uncorr. ECC |\n",
            "| Fan  Temp   Perf          Pwr:Usage/Cap |           Memory-Usage | GPU-Util  Compute M. |\n",
            "|                                         |                        |               MIG M. |\n",
            "|=========================================+========================+======================|\n",
            "|   0  Tesla T4                       Off |   00000000:00:04.0 Off |                    0 |\n",
            "| N/A   75C    P0             32W /   70W |     120MiB /  15360MiB |      0%      Default |\n",
            "|                                         |                        |                  N/A |\n",
            "+-----------------------------------------+------------------------+----------------------+\n",
            "                                                                                         \n",
            "+-----------------------------------------------------------------------------------------+\n",
            "| Processes:                                                                              |\n",
            "|  GPU   GI   CI        PID   Type   Process name                              GPU Memory |\n",
            "|        ID   ID                                                               Usage      |\n",
            "|=========================================================================================|\n",
            "+-----------------------------------------------------------------------------------------+\n"
          ]
        }
      ]
    },
    {
      "cell_type": "code",
      "source": [
        "import torch\n",
        "import numpy as np\n",
        "import pandas as pd\n",
        "import matplotlib.pyplot as plt\n",
        "print(torch.__version__)"
      ],
      "metadata": {
        "colab": {
          "base_uri": "https://localhost:8080/"
        },
        "id": "-Bo2-ITdpmxF",
        "outputId": "09e1701f-e718-4947-e25a-49aa251f4a4b"
      },
      "execution_count": null,
      "outputs": [
        {
          "output_type": "stream",
          "name": "stdout",
          "text": [
            "2.5.1+cu124\n"
          ]
        }
      ]
    },
    {
      "cell_type": "markdown",
      "source": [
        "### Introduction to Tensors"
      ],
      "metadata": {
        "id": "DDVCMFqWradu"
      }
    },
    {
      "cell_type": "markdown",
      "source": [
        "torch.Tensor(): is a class in PyTorch that represents a multi-dimensional array (tensor). It is the core data structure in PyTorch, similar to NumPy arrays but with additional support for GPU acceleration and automatic differentiation.\n",
        "\n",
        "- Key Features:\n",
        "  - Multi-Dimensional: Supports scalars, vectors, matrices, and high-dimensional tensors.\n",
        "  - Device Support: Can be moved between CPU and GPU (.to(device)).\n",
        "  - Automatic Differentiation: Works with torch.autograd for gradient computation.\n",
        "  - Efficient Computation: Optimized for deep learning operations."
      ],
      "metadata": {
        "id": "PuIhMisybpjJ"
      }
    },
    {
      "cell_type": "code",
      "source": [
        "scalar = torch.tensor(7)\n",
        "print(scalar)"
      ],
      "metadata": {
        "colab": {
          "base_uri": "https://localhost:8080/"
        },
        "id": "hWr6fAoRreDw",
        "outputId": "c027ec9d-efa4-4ca0-dcb1-7e614ca78867"
      },
      "execution_count": null,
      "outputs": [
        {
          "output_type": "stream",
          "name": "stdout",
          "text": [
            "tensor(7)\n"
          ]
        }
      ]
    },
    {
      "cell_type": "code",
      "source": [
        "print(scalar.ndim)\n",
        "print(scalar.item())"
      ],
      "metadata": {
        "colab": {
          "base_uri": "https://localhost:8080/"
        },
        "id": "OBg0jbBieEZj",
        "outputId": "d5a3e908-dfb4-450e-e46b-89acb1a5aba8"
      },
      "execution_count": null,
      "outputs": [
        {
          "output_type": "stream",
          "name": "stdout",
          "text": [
            "0\n",
            "7\n"
          ]
        }
      ]
    },
    {
      "cell_type": "code",
      "source": [
        "vector = torch.tensor([7,10])\n",
        "print(vector.ndim)\n",
        "print(vector.shape[0])"
      ],
      "metadata": {
        "colab": {
          "base_uri": "https://localhost:8080/"
        },
        "id": "HyaPaZfJeave",
        "outputId": "2fdacbfb-abe6-4952-8029-295eca6276d4"
      },
      "execution_count": null,
      "outputs": [
        {
          "output_type": "stream",
          "name": "stdout",
          "text": [
            "1\n",
            "2\n"
          ]
        }
      ]
    },
    {
      "cell_type": "code",
      "source": [
        "matrix = torch.tensor([[2,3],[4,5]])\n",
        "print(matrix.ndim)\n",
        "print(matrix.shape)"
      ],
      "metadata": {
        "colab": {
          "base_uri": "https://localhost:8080/"
        },
        "id": "P8wFxj2Be_y2",
        "outputId": "7c971e6c-3cdb-492d-fc6f-5dbee0955828"
      },
      "execution_count": null,
      "outputs": [
        {
          "output_type": "stream",
          "name": "stdout",
          "text": [
            "2\n",
            "torch.Size([2, 2])\n"
          ]
        }
      ]
    },
    {
      "cell_type": "code",
      "source": [
        "Tensor = torch.tensor([[[1,2,3],[3,4,5]],\n",
        "                       [[10,11,12],[5,6,7]]])\n",
        "print(Tensor.ndim)\n",
        "print(Tensor.shape)\n",
        "print(Tensor)"
      ],
      "metadata": {
        "colab": {
          "base_uri": "https://localhost:8080/"
        },
        "id": "7lbFxbqtihmL",
        "outputId": "ec74b1d3-8582-4a9f-98da-7f9bddc57bdc"
      },
      "execution_count": null,
      "outputs": [
        {
          "output_type": "stream",
          "name": "stdout",
          "text": [
            "3\n",
            "torch.Size([2, 2, 3])\n",
            "tensor([[[ 1,  2,  3],\n",
            "         [ 3,  4,  5]],\n",
            "\n",
            "        [[10, 11, 12],\n",
            "         [ 5,  6,  7]]])\n"
          ]
        }
      ]
    },
    {
      "cell_type": "markdown",
      "source": [
        "### Random Tensors\n",
        "\n",
        "Why do we need it ?\n",
        "\n",
        "Neural Networks start with tensors full of random numbers & then adjust those random numbers to better represent the data."
      ],
      "metadata": {
        "id": "7pnUiVL9knWm"
      }
    },
    {
      "cell_type": "code",
      "source": [
        "rand_tensor = torch.rand(4,5)\n",
        "print(rand_tensor)\n",
        "print(rand_tensor.ndim)\n",
        "print(rand_tensor.shape)"
      ],
      "metadata": {
        "colab": {
          "base_uri": "https://localhost:8080/"
        },
        "id": "S6hQ1trOjVjW",
        "outputId": "09920bc4-563e-4912-dbd8-0faa03d3d959"
      },
      "execution_count": null,
      "outputs": [
        {
          "output_type": "stream",
          "name": "stdout",
          "text": [
            "tensor([[0.8707, 0.7474, 0.6519, 0.4923, 0.1198],\n",
            "        [0.1484, 0.3140, 0.1829, 0.4489, 0.5615],\n",
            "        [0.7288, 0.5688, 0.7359, 0.0583, 0.7737],\n",
            "        [0.7057, 0.9049, 0.9281, 0.2090, 0.3340]])\n",
            "2\n",
            "torch.Size([4, 5])\n"
          ]
        }
      ]
    },
    {
      "cell_type": "code",
      "source": [
        "random_image_tensor = torch.rand(size=(224,224,3))\n",
        "random_image_tensor.shape, random_image_tensor.ndim"
      ],
      "metadata": {
        "colab": {
          "base_uri": "https://localhost:8080/"
        },
        "id": "7kGrMdvtmQwg",
        "outputId": "8b6d9773-3909-4283-99c9-c7078ee6bf35"
      },
      "execution_count": null,
      "outputs": [
        {
          "output_type": "execute_result",
          "data": {
            "text/plain": [
              "(torch.Size([224, 224, 3]), 3)"
            ]
          },
          "metadata": {},
          "execution_count": 51
        }
      ]
    },
    {
      "cell_type": "code",
      "source": [
        "# zeros & 1\n",
        "zeros = torch.zeros(size=(5,4))\n",
        "print(zeros)\n",
        "ones = torch.ones(size=(5,4))\n",
        "print(ones)\n",
        "result = torch.matmul(rand_tensor,zeros)\n",
        "print(result)\n",
        "result = torch.matmul(rand_tensor,ones)\n",
        "print(result)"
      ],
      "metadata": {
        "colab": {
          "base_uri": "https://localhost:8080/"
        },
        "id": "ivDRrPBHnDO3",
        "outputId": "ec1a6930-3c4f-4709-ce84-f84b5f1d2c60"
      },
      "execution_count": null,
      "outputs": [
        {
          "output_type": "stream",
          "name": "stdout",
          "text": [
            "tensor([[0., 0., 0., 0.],\n",
            "        [0., 0., 0., 0.],\n",
            "        [0., 0., 0., 0.],\n",
            "        [0., 0., 0., 0.],\n",
            "        [0., 0., 0., 0.]])\n",
            "tensor([[1., 1., 1., 1.],\n",
            "        [1., 1., 1., 1.],\n",
            "        [1., 1., 1., 1.],\n",
            "        [1., 1., 1., 1.],\n",
            "        [1., 1., 1., 1.]])\n",
            "tensor([[0., 0., 0., 0.],\n",
            "        [0., 0., 0., 0.],\n",
            "        [0., 0., 0., 0.],\n",
            "        [0., 0., 0., 0.]])\n",
            "tensor([[2.8821, 2.8821, 2.8821, 2.8821],\n",
            "        [1.6558, 1.6558, 1.6558, 1.6558],\n",
            "        [2.8654, 2.8654, 2.8654, 2.8654],\n",
            "        [3.0817, 3.0817, 3.0817, 3.0817]])\n"
          ]
        }
      ]
    },
    {
      "cell_type": "code",
      "source": [
        "print(ones.dtype)\n",
        "print(zeros.dtype)"
      ],
      "metadata": {
        "colab": {
          "base_uri": "https://localhost:8080/"
        },
        "id": "DHDBQf_hodO-",
        "outputId": "1cf45e27-b3db-47fe-aecd-511d972d5a9c"
      },
      "execution_count": null,
      "outputs": [
        {
          "output_type": "stream",
          "name": "stdout",
          "text": [
            "torch.float32\n",
            "torch.float32\n"
          ]
        }
      ]
    },
    {
      "cell_type": "code",
      "source": [
        "data = torch.arange(1,11)\n",
        "data2 = torch.zeros_like(input=data)\n",
        "print(data)\n",
        "print(data2)"
      ],
      "metadata": {
        "colab": {
          "base_uri": "https://localhost:8080/"
        },
        "id": "OPoCnDyMo-hi",
        "outputId": "84cf528c-2ebf-42af-95d6-3325e5f41b7c"
      },
      "execution_count": null,
      "outputs": [
        {
          "output_type": "stream",
          "name": "stdout",
          "text": [
            "tensor([ 1,  2,  3,  4,  5,  6,  7,  8,  9, 10])\n",
            "tensor([0, 0, 0, 0, 0, 0, 0, 0, 0, 0])\n"
          ]
        }
      ]
    },
    {
      "cell_type": "markdown",
      "source": [
        "### Tensor datatypes"
      ],
      "metadata": {
        "id": "dwHGpHVQvq1Z"
      }
    },
    {
      "cell_type": "markdown",
      "source": [
        "Most common problems:\n",
        "- Tensors not right datatype\n",
        "- Tensors not right shape\n",
        "- Tensors not on the right device"
      ],
      "metadata": {
        "id": "_ofQ8q2Yx4Lb"
      }
    },
    {
      "cell_type": "code",
      "source": [
        "float_32_tensor = torch.tensor([3,4.0,5.0],\n",
        "                               dtype=None\n",
        "                               ,device=None # what device is the tensor on ?\n",
        "                               ,requires_grad=False) # wether or not to Track Gradient with this Tensor operation.\n",
        "print(float_32_tensor)"
      ],
      "metadata": {
        "colab": {
          "base_uri": "https://localhost:8080/"
        },
        "id": "Qc79hr02vpXP",
        "outputId": "0824cc27-a45c-4fe1-d4ff-e47dd804c365"
      },
      "execution_count": null,
      "outputs": [
        {
          "output_type": "stream",
          "name": "stdout",
          "text": [
            "tensor([3., 4., 5.])\n"
          ]
        }
      ]
    },
    {
      "cell_type": "code",
      "source": [
        "# converting float_32 tensor to float_16\n",
        "float_16_tensor = float_32_tensor.type(torch.float16)\n",
        "float_16_tensor\n",
        "\n",
        "ans = float_16_tensor * float_32_tensor\n",
        "print(\"float16 * float32 = \",ans.dtype)\n",
        "\n",
        "int32 = torch.tensor([1,2,3],dtype=torch.int32)\n",
        "ans2 = int32*float_32_tensor\n",
        "print(\"int32 * float32 = \",ans2.dtype)\n",
        "\n",
        "ans3 = int32*float_16_tensor\n",
        "print(\"int32 * float16 = \",ans3.dtype)\n"
      ],
      "metadata": {
        "colab": {
          "base_uri": "https://localhost:8080/"
        },
        "id": "GurAnCRazWon",
        "outputId": "682b7701-571b-46dd-b999-17e57daa4f47"
      },
      "execution_count": null,
      "outputs": [
        {
          "output_type": "stream",
          "name": "stdout",
          "text": [
            "float16 * float32 =  torch.float32\n",
            "int32 * float32 =  torch.float32\n",
            "int32 * float16 =  torch.float16\n"
          ]
        }
      ]
    },
    {
      "cell_type": "code",
      "source": [
        "print(float_16_tensor.device)\n",
        "print(float_16_tensor.size())\n",
        "print(float_16_tensor.shape)"
      ],
      "metadata": {
        "colab": {
          "base_uri": "https://localhost:8080/"
        },
        "id": "e9zqtrOk2MPF",
        "outputId": "75d638fe-cd43-4672-922c-ac0a6f398405"
      },
      "execution_count": null,
      "outputs": [
        {
          "output_type": "stream",
          "name": "stdout",
          "text": [
            "cpu\n",
            "torch.Size([3])\n",
            "torch.Size([3])\n"
          ]
        }
      ]
    },
    {
      "cell_type": "code",
      "source": [
        "# Manipulating Tensors\n",
        "tensor = torch.tensor([1,2,3,4])\n",
        "print(tensor + 10)\n",
        "print(tensor*10) # element wise multiplication\n",
        "print(torch.mul(tensor,5))"
      ],
      "metadata": {
        "id": "NP0ipYWP2LIq",
        "colab": {
          "base_uri": "https://localhost:8080/"
        },
        "outputId": "3f5c544c-ceed-4a99-9f62-9c67c60df4f8"
      },
      "execution_count": null,
      "outputs": [
        {
          "output_type": "stream",
          "name": "stdout",
          "text": [
            "tensor([11, 12, 13, 14])\n",
            "tensor([10, 20, 30, 40])\n",
            "tensor([ 5, 10, 15, 20])\n"
          ]
        }
      ]
    },
    {
      "cell_type": "markdown",
      "source": [
        "torch.matmul() -> does dot product if both inputs are 1d tensors"
      ],
      "metadata": {
        "id": "Jh_bfgibJvCJ"
      }
    },
    {
      "cell_type": "code",
      "source": [
        "# matrix multiplication (dot product)\n",
        "print(tensor)\n",
        "print(tensor.shape)\n",
        "print(torch.matmul(tensor,tensor))\n",
        "\n",
        "print(tensor.view(-1,1))\n",
        "print(tensor.view(-1,1).shape)\n",
        "tensor2 = tensor.view(-1,1)\n",
        "print(torch.matmul(tensor,tensor2))"
      ],
      "metadata": {
        "colab": {
          "base_uri": "https://localhost:8080/"
        },
        "id": "KNBpK7F4_nS7",
        "outputId": "505bbcab-02a5-498f-92f6-1c1b24261b9f"
      },
      "execution_count": null,
      "outputs": [
        {
          "output_type": "stream",
          "name": "stdout",
          "text": [
            "tensor([1, 2, 3, 4])\n",
            "torch.Size([4])\n",
            "tensor(30)\n",
            "tensor([[1],\n",
            "        [2],\n",
            "        [3],\n",
            "        [4]])\n",
            "torch.Size([4, 1])\n",
            "tensor([30])\n"
          ]
        }
      ]
    },
    {
      "cell_type": "code",
      "source": [
        "data = torch.rand(1000)"
      ],
      "metadata": {
        "id": "Xjhfcv0KK9Cg"
      },
      "execution_count": null,
      "outputs": []
    },
    {
      "cell_type": "code",
      "source": [
        "%%time\n",
        "ans = 0\n",
        "for i in range(1000):\n",
        "  ans += data[i]*data[i]\n",
        "print(ans)"
      ],
      "metadata": {
        "colab": {
          "base_uri": "https://localhost:8080/"
        },
        "id": "7_HVYRBkKCUh",
        "outputId": "aab965df-0079-48ca-bbe8-c794cc160c92"
      },
      "execution_count": null,
      "outputs": [
        {
          "output_type": "stream",
          "name": "stdout",
          "text": [
            "tensor(337.6126)\n",
            "CPU times: user 13.7 ms, sys: 959 µs, total: 14.7 ms\n",
            "Wall time: 16.3 ms\n"
          ]
        }
      ]
    },
    {
      "cell_type": "code",
      "source": [
        "%%time\n",
        "ans = torch.matmul(data,data).item()\n",
        "print(ans)"
      ],
      "metadata": {
        "colab": {
          "base_uri": "https://localhost:8080/"
        },
        "id": "HFBtwh-TKZMZ",
        "outputId": "e80459d2-3f6e-463b-8d45-77beb991ef50"
      },
      "execution_count": null,
      "outputs": [
        {
          "output_type": "stream",
          "name": "stdout",
          "text": [
            "337.61260986328125\n",
            "CPU times: user 914 µs, sys: 0 ns, total: 914 µs\n",
            "Wall time: 661 µs\n"
          ]
        }
      ]
    },
    {
      "cell_type": "code",
      "source": [
        "tensor @ tensor  # leads to matmul"
      ],
      "metadata": {
        "colab": {
          "base_uri": "https://localhost:8080/"
        },
        "id": "FkxvpYNEL4hM",
        "outputId": "b73ce9a7-70dc-4be7-af59-44e19af8f5cc"
      },
      "execution_count": null,
      "outputs": [
        {
          "output_type": "execute_result",
          "data": {
            "text/plain": [
              "tensor(30)"
            ]
          },
          "metadata": {},
          "execution_count": 63
        }
      ]
    },
    {
      "cell_type": "code",
      "source": [
        "tensor_a = tensor.view(-1,1)\n",
        "tensor_b = tensor.T\n",
        "print(tensor,\" \",tensor.shape)\n",
        "print(tensor_a,\" \",tensor_a.shape)\n",
        "print(tensor_b,\" \",tensor_b.shape)"
      ],
      "metadata": {
        "colab": {
          "base_uri": "https://localhost:8080/"
        },
        "id": "frp0Frw9WtP8",
        "outputId": "e668c76e-b004-4274-ef55-7f76e7585d9d"
      },
      "execution_count": null,
      "outputs": [
        {
          "output_type": "stream",
          "name": "stdout",
          "text": [
            "tensor([1, 2, 3, 4])   torch.Size([4])\n",
            "tensor([[1],\n",
            "        [2],\n",
            "        [3],\n",
            "        [4]])   torch.Size([4, 1])\n",
            "tensor([1, 2, 3, 4])   torch.Size([4])\n"
          ]
        }
      ]
    },
    {
      "cell_type": "code",
      "source": [
        "tensor_a = torch.rand(3,2)\n",
        "tensor_b = torch.rand(2,3)\n",
        "\n",
        "torch.mm(tensor_a,tensor_b)"
      ],
      "metadata": {
        "colab": {
          "base_uri": "https://localhost:8080/"
        },
        "id": "M4453dkkZ9kw",
        "outputId": "ea71ded8-9ed9-4fe6-999b-a1a32d954123"
      },
      "execution_count": null,
      "outputs": [
        {
          "output_type": "execute_result",
          "data": {
            "text/plain": [
              "tensor([[0.2012, 0.7115, 1.2932],\n",
              "        [0.3127, 0.3958, 1.0875],\n",
              "        [0.1476, 0.1550, 0.4720]])"
            ]
          },
          "metadata": {},
          "execution_count": 70
        }
      ]
    },
    {
      "cell_type": "markdown",
      "source": [
        "### Finding min, max, mean, sum"
      ],
      "metadata": {
        "id": "aCLg-9cFb8AA"
      }
    },
    {
      "cell_type": "code",
      "source": [
        "x = torch.rand(200)\n",
        "print(x.min())\n",
        "print(x.max())\n",
        "print(x.mean())  # mean() works on floating tensors\n",
        "print(type(x.sum().item()))"
      ],
      "metadata": {
        "colab": {
          "base_uri": "https://localhost:8080/"
        },
        "id": "CUWwbsxTb6sC",
        "outputId": "625f4be0-8f25-4275-a7be-a1e0f3a920cf"
      },
      "execution_count": null,
      "outputs": [
        {
          "output_type": "stream",
          "name": "stdout",
          "text": [
            "tensor(0.0039)\n",
            "tensor(0.9945)\n",
            "tensor(0.4949)\n",
            "<class 'float'>\n"
          ]
        }
      ]
    },
    {
      "cell_type": "code",
      "source": [
        "print(x.argmin())\n",
        "print(x.argmax())"
      ],
      "metadata": {
        "colab": {
          "base_uri": "https://localhost:8080/"
        },
        "id": "skpWAzBoddoB",
        "outputId": "70d39e10-a9d8-4e82-c2c1-bb67780438a7"
      },
      "execution_count": null,
      "outputs": [
        {
          "output_type": "stream",
          "name": "stdout",
          "text": [
            "tensor(96)\n",
            "tensor(197)\n"
          ]
        }
      ]
    },
    {
      "cell_type": "markdown",
      "source": [
        "### Reshaping, stacking, squeezing, unsqueezing\n",
        "\n",
        "* Reshaping: reshape input tensor to defined shape.\n",
        "* View: return a view of an input tensor of certain shape, keeping the same memory.\n",
        "* stack: horizontal or vertical addition of tensors.\n",
        "* squeezing: removes '1' dimension from tensor.\n",
        "* unsqueeze: adds 1 dimension to the target tensor.\n",
        "* permute: return a view of the input with dimensions swapped in certain way."
      ],
      "metadata": {
        "id": "6J-_Xrr5ePST"
      }
    },
    {
      "cell_type": "markdown",
      "source": [
        "* Reshape:\n",
        "  - Flexibility: reshape can return a tensor with a different shape than the original tensor, and it can do so in a more flexible way. It internally checks if it can return a new tensor with the requested shape, either by sharing memory with the original tensor or by making a new copy, depending on the situation.\n",
        "  - Memory Handling: It may return a new tensor if necessary, which might not share the same underlying memory as the original tensor."
      ],
      "metadata": {
        "id": "_1O0lwirogKX"
      }
    },
    {
      "cell_type": "code",
      "source": [
        "import torch\n",
        "\n",
        "x = torch.arange(1,10)\n",
        "x_ch = x.reshape(3,3)\n",
        "print(x_ch,x_ch.shape)\n",
        "x_ch = x.reshape(9,1)\n",
        "print(x_ch,x_ch.shape)\n",
        "x_ch = x.reshape(1,9)\n",
        "print(x_ch,x_ch.shape)\n",
        "\n",
        "x_ch[0][4] = -100\n",
        "print(x_ch,x_ch.shape)\n",
        "print(x,x.shape)"
      ],
      "metadata": {
        "colab": {
          "base_uri": "https://localhost:8080/"
        },
        "id": "ShVT0GIKeY-I",
        "outputId": "5d1a4775-7722-47b4-d4da-61b5bd07ee92"
      },
      "execution_count": null,
      "outputs": [
        {
          "output_type": "stream",
          "name": "stdout",
          "text": [
            "tensor([[1, 2, 3],\n",
            "        [4, 5, 6],\n",
            "        [7, 8, 9]]) torch.Size([3, 3])\n",
            "tensor([[1],\n",
            "        [2],\n",
            "        [3],\n",
            "        [4],\n",
            "        [5],\n",
            "        [6],\n",
            "        [7],\n",
            "        [8],\n",
            "        [9]]) torch.Size([9, 1])\n",
            "tensor([[1, 2, 3, 4, 5, 6, 7, 8, 9]]) torch.Size([1, 9])\n",
            "tensor([[   1,    2,    3,    4, -100,    6,    7,    8,    9]]) torch.Size([1, 9])\n",
            "tensor([   1,    2,    3,    4, -100,    6,    7,    8,    9]) torch.Size([9])\n"
          ]
        }
      ]
    },
    {
      "cell_type": "markdown",
      "source": [
        "* View:\n",
        "  - Memory Contiguity: view requires the tensor to be contiguous in memory. If the tensor is not contiguous (i.e., the elements are not stored in a single continuous block of memory), then calling view will throw an error. The result of view will always be a new tensor that shares the same memory as the original tensor (it doesn't copy the data unless necessary).\n",
        "  - Faster and Memory-Efficient: Since view operates directly on the existing memory, it can be faster and more memory-efficient when the tensor is contiguous."
      ],
      "metadata": {
        "id": "q38ljdKIoDEL"
      }
    },
    {
      "cell_type": "code",
      "source": [
        "# view\n",
        "# z shares the same memory with x, so changing z will also change x\n",
        "\n",
        "z = x.view(9,1)\n",
        "z[3] = 100\n",
        "print(z,z.shape)\n",
        "print(x,x.shape)\n"
      ],
      "metadata": {
        "colab": {
          "base_uri": "https://localhost:8080/"
        },
        "id": "i6zGZZc_j0AU",
        "outputId": "993954db-6611-4fc9-af00-f781041168ac"
      },
      "execution_count": null,
      "outputs": [
        {
          "output_type": "stream",
          "name": "stdout",
          "text": [
            "tensor([[   1],\n",
            "        [   2],\n",
            "        [   3],\n",
            "        [ 100],\n",
            "        [-100],\n",
            "        [   6],\n",
            "        [   7],\n",
            "        [   8],\n",
            "        [   9]]) torch.Size([9, 1])\n",
            "tensor([   1,    2,    3,  100, -100,    6,    7,    8,    9]) torch.Size([9])\n"
          ]
        }
      ]
    },
    {
      "cell_type": "code",
      "source": [
        "# stack tensors\n",
        "\n",
        "x_stacked = torch.stack([x,x,x],dim=0)\n",
        "print(x_stacked,x_stacked.shape)\n",
        "x_stacked = torch.stack([x,x,x],dim=1)\n",
        "print(x_stacked,x_stacked.shape,end=\"\\n\\n\\n\")\n",
        "\n",
        "print(\"Lets see stacking at different dimensions\")\n",
        "print(x_stacked,x_stacked.shape,end=\"\\n\\n\")\n",
        "x_stacked = torch.stack([x_ch,x_ch,x_ch],dim=0)\n",
        "print(x_stacked,x_stacked.shape,end=\"\\n\\n\")\n",
        "x_stacked = torch.stack([x_ch,x_ch,x_ch],dim=1)\n",
        "print(x_stacked,x_stacked.shape,end=\"\\n\\n\")\n",
        "x_stacked = torch.stack([x_ch,x_ch,x_ch],dim=2)\n",
        "print(x_stacked,x_stacked.shape)"
      ],
      "metadata": {
        "colab": {
          "base_uri": "https://localhost:8080/"
        },
        "id": "8eBMxM7VoiM7",
        "outputId": "2b98bf23-38d2-4e98-80fa-6e4c7d2ce816"
      },
      "execution_count": null,
      "outputs": [
        {
          "output_type": "stream",
          "name": "stdout",
          "text": [
            "tensor([[   1,    2,    3,  100, -100,    6,    7,    8,    9],\n",
            "        [   1,    2,    3,  100, -100,    6,    7,    8,    9],\n",
            "        [   1,    2,    3,  100, -100,    6,    7,    8,    9]]) torch.Size([3, 9])\n",
            "tensor([[   1,    1,    1],\n",
            "        [   2,    2,    2],\n",
            "        [   3,    3,    3],\n",
            "        [ 100,  100,  100],\n",
            "        [-100, -100, -100],\n",
            "        [   6,    6,    6],\n",
            "        [   7,    7,    7],\n",
            "        [   8,    8,    8],\n",
            "        [   9,    9,    9]]) torch.Size([9, 3])\n",
            "\n",
            "\n",
            "Lets see stacking at different dimensions\n",
            "tensor([[   1,    1,    1],\n",
            "        [   2,    2,    2],\n",
            "        [   3,    3,    3],\n",
            "        [ 100,  100,  100],\n",
            "        [-100, -100, -100],\n",
            "        [   6,    6,    6],\n",
            "        [   7,    7,    7],\n",
            "        [   8,    8,    8],\n",
            "        [   9,    9,    9]]) torch.Size([9, 3])\n",
            "\n",
            "tensor([[[   1,    2,    3,  100, -100,    6,    7,    8,    9]],\n",
            "\n",
            "        [[   1,    2,    3,  100, -100,    6,    7,    8,    9]],\n",
            "\n",
            "        [[   1,    2,    3,  100, -100,    6,    7,    8,    9]]]) torch.Size([3, 1, 9])\n",
            "\n",
            "tensor([[[   1,    2,    3,  100, -100,    6,    7,    8,    9],\n",
            "         [   1,    2,    3,  100, -100,    6,    7,    8,    9],\n",
            "         [   1,    2,    3,  100, -100,    6,    7,    8,    9]]]) torch.Size([1, 3, 9])\n",
            "\n",
            "tensor([[[   1,    1,    1],\n",
            "         [   2,    2,    2],\n",
            "         [   3,    3,    3],\n",
            "         [ 100,  100,  100],\n",
            "         [-100, -100, -100],\n",
            "         [   6,    6,    6],\n",
            "         [   7,    7,    7],\n",
            "         [   8,    8,    8],\n",
            "         [   9,    9,    9]]]) torch.Size([1, 9, 3])\n"
          ]
        }
      ]
    },
    {
      "cell_type": "code",
      "source": [
        "# Squeeze Removes Dimensions having 1\n",
        "x = torch.zeros(2, 1, 2, 1, 2)\n",
        "print(x.size())\n",
        "y = torch.squeeze(x)\n",
        "print(y.size())\n",
        "y = torch.squeeze(x, 0)\n",
        "print(y.size())\n",
        "y = torch.squeeze(x, 1)\n",
        "print(y.size())\n",
        "y = torch.squeeze(x, (1, 2, 3))"
      ],
      "metadata": {
        "colab": {
          "base_uri": "https://localhost:8080/"
        },
        "id": "Z3vF5KkjQi9n",
        "outputId": "c614061e-bf26-428d-c33d-53e15407e6a4"
      },
      "execution_count": null,
      "outputs": [
        {
          "output_type": "stream",
          "name": "stdout",
          "text": [
            "torch.Size([2, 1, 2, 1, 2])\n",
            "torch.Size([2, 2, 2])\n",
            "torch.Size([2, 1, 2, 1, 2])\n",
            "torch.Size([2, 2, 1, 2])\n"
          ]
        }
      ]
    },
    {
      "cell_type": "code",
      "source": [
        "# unsqueeze adds single dimension to a tensor at the specified dimension\n",
        "x = torch.rand(3,4)\n",
        "print(x,x.shape)\n",
        "x_un = x.unsqueeze(dim=0)\n",
        "print(\"At 0th dimension:\\n\",x_un,x_un.shape)\n",
        "x_un = x.unsqueeze(dim=1)\n",
        "print(\"At 1st dimension:\\n\",x_un,x_un.shape)\n",
        "x_un = x.unsqueeze(dim=2)\n",
        "print(\"At 2nd dimension:\\n\",x_un,x_un.shape)"
      ],
      "metadata": {
        "colab": {
          "base_uri": "https://localhost:8080/"
        },
        "id": "_Fd1MayLS0CE",
        "outputId": "e9347e82-d208-44cf-c0fa-c1bac0f2f577"
      },
      "execution_count": null,
      "outputs": [
        {
          "output_type": "stream",
          "name": "stdout",
          "text": [
            "tensor([[0.3943, 0.0036, 0.5839, 0.9437],\n",
            "        [0.4151, 0.2282, 0.8094, 0.4524],\n",
            "        [0.8734, 0.5335, 0.1846, 0.2489]]) torch.Size([3, 4])\n",
            "At 0th dimension:\n",
            " tensor([[[0.3943, 0.0036, 0.5839, 0.9437],\n",
            "         [0.4151, 0.2282, 0.8094, 0.4524],\n",
            "         [0.8734, 0.5335, 0.1846, 0.2489]]]) torch.Size([1, 3, 4])\n",
            "At 1st dimension:\n",
            " tensor([[[0.3943, 0.0036, 0.5839, 0.9437]],\n",
            "\n",
            "        [[0.4151, 0.2282, 0.8094, 0.4524]],\n",
            "\n",
            "        [[0.8734, 0.5335, 0.1846, 0.2489]]]) torch.Size([3, 1, 4])\n",
            "At 2nd dimension:\n",
            " tensor([[[0.3943],\n",
            "         [0.0036],\n",
            "         [0.5839],\n",
            "         [0.9437]],\n",
            "\n",
            "        [[0.4151],\n",
            "         [0.2282],\n",
            "         [0.8094],\n",
            "         [0.4524]],\n",
            "\n",
            "        [[0.8734],\n",
            "         [0.5335],\n",
            "         [0.1846],\n",
            "         [0.2489]]]) torch.Size([3, 4, 1])\n"
          ]
        }
      ]
    },
    {
      "cell_type": "code",
      "source": [
        "### permute returns a view of original tensor input with its dimensions permuted, and it has the same memory as the original one\n",
        "\n",
        "x = torch.rand(3,2,4)\n",
        "print(x,x.shape)\n",
        "\n",
        "x_per = x.permute(2,0,1)\n",
        "print(x_per,x_per.shape)"
      ],
      "metadata": {
        "colab": {
          "base_uri": "https://localhost:8080/"
        },
        "id": "wQsN2S8AUeH3",
        "outputId": "60af5de7-0ade-4d49-b75f-5ee0ed424a9c"
      },
      "execution_count": null,
      "outputs": [
        {
          "output_type": "stream",
          "name": "stdout",
          "text": [
            "tensor([[[0.6491, 0.8718, 0.4111, 0.4785],\n",
            "         [0.2471, 0.8033, 0.4063, 0.9766]],\n",
            "\n",
            "        [[0.1779, 0.4481, 0.2360, 0.7486],\n",
            "         [0.4610, 0.1333, 0.8256, 0.8975]],\n",
            "\n",
            "        [[0.0066, 0.6208, 0.5278, 0.6103],\n",
            "         [0.8165, 0.7105, 0.9476, 0.9040]]]) torch.Size([3, 2, 4])\n",
            "tensor([[[0.6491, 0.2471],\n",
            "         [0.1779, 0.4610],\n",
            "         [0.0066, 0.8165]],\n",
            "\n",
            "        [[0.8718, 0.8033],\n",
            "         [0.4481, 0.1333],\n",
            "         [0.6208, 0.7105]],\n",
            "\n",
            "        [[0.4111, 0.4063],\n",
            "         [0.2360, 0.8256],\n",
            "         [0.5278, 0.9476]],\n",
            "\n",
            "        [[0.4785, 0.9766],\n",
            "         [0.7486, 0.8975],\n",
            "         [0.6103, 0.9040]]]) torch.Size([4, 3, 2])\n"
          ]
        }
      ]
    },
    {
      "cell_type": "code",
      "source": [
        "t = torch.tensor([[\n",
        "    [[1],[2],[3]],\n",
        "    [[6],[5],[4]],\n",
        "    [[7],[8],[9]]]\n",
        "])\n",
        "print(t[0][0][1][0].item())\n",
        "print(t[0][0][1].item())\n",
        "print(t[0][0])\n",
        "t.shape"
      ],
      "metadata": {
        "colab": {
          "base_uri": "https://localhost:8080/"
        },
        "id": "FcqM1sA-X6-M",
        "outputId": "3f00eb5d-990d-4de4-ff54-09f8be1bd29e"
      },
      "execution_count": null,
      "outputs": [
        {
          "output_type": "stream",
          "name": "stdout",
          "text": [
            "2\n",
            "2\n",
            "tensor([[1],\n",
            "        [2],\n",
            "        [3]])\n"
          ]
        },
        {
          "output_type": "execute_result",
          "data": {
            "text/plain": [
              "torch.Size([1, 3, 3, 1])"
            ]
          },
          "metadata": {},
          "execution_count": 15
        }
      ]
    },
    {
      "cell_type": "code",
      "source": [
        "# i want 2,5,8\n",
        "print(t[:,:,1,0])\n",
        "print(t[:,:,1,0][0])\n",
        "print(t[:,:,1,0][0][0])\n",
        "print(t[0][1][2][0])"
      ],
      "metadata": {
        "colab": {
          "base_uri": "https://localhost:8080/"
        },
        "id": "EhPnw8XbZigW",
        "outputId": "5a3be8ac-0aaf-4e2c-a6a2-c1b10412f667"
      },
      "execution_count": null,
      "outputs": [
        {
          "output_type": "stream",
          "name": "stdout",
          "text": [
            "tensor([[2, 5, 8]])\n",
            "tensor([2, 5, 8])\n",
            "tensor(2)\n",
            "tensor(4)\n"
          ]
        }
      ]
    },
    {
      "cell_type": "markdown",
      "source": [
        "### Numpy & Pytorch"
      ],
      "metadata": {
        "id": "osMSQVx2bzT_"
      }
    },
    {
      "cell_type": "code",
      "source": [
        "import torch\n",
        "import numpy as np\n",
        "\n",
        "arr = np.arange(1.0,8.0)\n",
        "t1 = torch.from_numpy(arr)\n",
        "t2 = torch.from_numpy(arr).type(torch.float32)\n",
        "print(arr,arr.dtype)\n",
        "print(t1,t1.dtype)\n",
        "print(t2,t2.dtype)"
      ],
      "metadata": {
        "colab": {
          "base_uri": "https://localhost:8080/"
        },
        "id": "um4zrQwfbyfN",
        "outputId": "017d8751-5948-4010-e950-e502bf70ebe2"
      },
      "execution_count": null,
      "outputs": [
        {
          "output_type": "stream",
          "name": "stdout",
          "text": [
            "[1. 2. 3. 4. 5. 6. 7.] float64\n",
            "tensor([1., 2., 3., 4., 5., 6., 7.], dtype=torch.float64) torch.float64\n",
            "tensor([1., 2., 3., 4., 5., 6., 7.]) torch.float32\n"
          ]
        }
      ]
    },
    {
      "cell_type": "markdown",
      "source": [
        "A thing to note is when we convert numpy to tensor, its datatype is not default torch.float32"
      ],
      "metadata": {
        "id": "3lEYiXfAdXPl"
      }
    },
    {
      "cell_type": "code",
      "source": [
        "arr = arr + 1\n",
        "print(arr)\n",
        "print(t1)\n",
        "print(t2)"
      ],
      "metadata": {
        "colab": {
          "base_uri": "https://localhost:8080/"
        },
        "id": "PSzG4CP-dkCT",
        "outputId": "d2ff42ea-e211-4d4b-b018-99d869aa7c97"
      },
      "execution_count": null,
      "outputs": [
        {
          "output_type": "stream",
          "name": "stdout",
          "text": [
            "[2. 3. 4. 5. 6. 7. 8.]\n",
            "tensor([1., 2., 3., 4., 5., 6., 7.], dtype=torch.float64)\n",
            "tensor([1., 2., 3., 4., 5., 6., 7.])\n"
          ]
        }
      ]
    },
    {
      "cell_type": "code",
      "source": [
        "# tensor to numpy\n",
        "t3 = torch.ones(7)\n",
        "arr2 = t3.numpy()\n",
        "\n",
        "print(t3,t3.dtype)\n",
        "print(arr2,arr2.dtype)"
      ],
      "metadata": {
        "colab": {
          "base_uri": "https://localhost:8080/"
        },
        "id": "Y6bSypeReYcf",
        "outputId": "f4265ddc-52fc-4dd5-e574-6167418244d4"
      },
      "execution_count": null,
      "outputs": [
        {
          "output_type": "stream",
          "name": "stdout",
          "text": [
            "tensor([1., 1., 1., 1., 1., 1., 1.]) torch.float32\n",
            "[1. 1. 1. 1. 1. 1. 1.] float32\n"
          ]
        }
      ]
    },
    {
      "cell_type": "code",
      "source": [
        "# Reproduciblity (trying to take random out of random)\n",
        "\n",
        "RANDOM_SEED = 42\n",
        "torch.manual_seed(RANDOM_SEED)\n",
        "T1 = torch.rand(3,3)\n",
        "\n",
        "torch.manual_seed(RANDOM_SEED)\n",
        "T2 = torch.rand(3,3)\n",
        "print(T1)\n",
        "print(T1 == T2)"
      ],
      "metadata": {
        "colab": {
          "base_uri": "https://localhost:8080/"
        },
        "id": "rHZWGPsRfhUF",
        "outputId": "0ee23d96-4316-4588-de34-cebf8a094510"
      },
      "execution_count": null,
      "outputs": [
        {
          "output_type": "stream",
          "name": "stdout",
          "text": [
            "tensor([[0.8823, 0.9150, 0.3829],\n",
            "        [0.9593, 0.3904, 0.6009],\n",
            "        [0.2566, 0.7936, 0.9408]])\n",
            "tensor([[True, True, True],\n",
            "        [True, True, True],\n",
            "        [True, True, True]])\n"
          ]
        }
      ]
    },
    {
      "cell_type": "code",
      "source": [
        "import torch\n",
        "torch.cuda.is_available()"
      ],
      "metadata": {
        "colab": {
          "base_uri": "https://localhost:8080/"
        },
        "id": "PJUUEVciMiDp",
        "outputId": "d1d7c57f-976d-468c-df22-f8c2a3cb1bfe"
      },
      "execution_count": 1,
      "outputs": [
        {
          "output_type": "execute_result",
          "data": {
            "text/plain": [
              "True"
            ]
          },
          "metadata": {},
          "execution_count": 1
        }
      ]
    },
    {
      "cell_type": "code",
      "source": [
        "device = \"cuda\" if torch.cuda.is_available() else \"cpu\""
      ],
      "metadata": {
        "id": "tOQ1qkMvM60A"
      },
      "execution_count": 12,
      "outputs": []
    },
    {
      "cell_type": "code",
      "source": [
        "# count the number of devices\n",
        "torch.cuda.device_count()"
      ],
      "metadata": {
        "colab": {
          "base_uri": "https://localhost:8080/"
        },
        "id": "yx4UF9lCNJRB",
        "outputId": "eb725deb-1122-4ec9-9278-d63fed47091c"
      },
      "execution_count": 3,
      "outputs": [
        {
          "output_type": "execute_result",
          "data": {
            "text/plain": [
              "1"
            ]
          },
          "metadata": {},
          "execution_count": 3
        }
      ]
    },
    {
      "cell_type": "markdown",
      "source": [
        "### Putting tensors and models on GPU"
      ],
      "metadata": {
        "id": "dqgkA5pDPZsO"
      }
    },
    {
      "cell_type": "code",
      "source": [
        "t1 = torch.rand(1000)\n",
        "print(t1[0:10],t1.device)"
      ],
      "metadata": {
        "colab": {
          "base_uri": "https://localhost:8080/"
        },
        "id": "kWIeqXW-O9Eq",
        "outputId": "77e4fd4c-b2d0-423b-fe3b-9a5281bc13a5"
      },
      "execution_count": 5,
      "outputs": [
        {
          "output_type": "stream",
          "name": "stdout",
          "text": [
            "tensor([0.1285, 0.6139, 0.9162, 0.8551, 0.8385, 0.8038, 0.4520, 0.8014, 0.1447,\n",
            "        0.1492]) cpu\n"
          ]
        }
      ]
    },
    {
      "cell_type": "code",
      "source": [
        "# Move tensor to GPU if available\n",
        "tensor_on_gpu = t1.to(device)\n",
        "tensor_on_gpu[0:10]"
      ],
      "metadata": {
        "colab": {
          "base_uri": "https://localhost:8080/"
        },
        "id": "45Gz9V4QP75I",
        "outputId": "9c2fb707-6eb7-48bd-9f15-8656707b40c2"
      },
      "execution_count": 13,
      "outputs": [
        {
          "output_type": "execute_result",
          "data": {
            "text/plain": [
              "tensor([0.1285, 0.6139, 0.9162, 0.8551, 0.8385, 0.8038, 0.4520, 0.8014, 0.1447,\n",
              "        0.1492], device='cuda:0')"
            ]
          },
          "metadata": {},
          "execution_count": 13
        }
      ]
    },
    {
      "cell_type": "code",
      "source": [
        "# move tensor back to cpu\n",
        "# if tenor on GPU, we can't transform it to numpy\n",
        "tensor_back_on_cpu = tensor_on_gpu.cpu().numpy()\n",
        "tensor_back_on_cpu[0:10]"
      ],
      "metadata": {
        "colab": {
          "base_uri": "https://localhost:8080/"
        },
        "id": "Yc6lqBOoRw18",
        "outputId": "d5d932e0-01b0-4e87-d548-f0c616e931b2"
      },
      "execution_count": 16,
      "outputs": [
        {
          "output_type": "execute_result",
          "data": {
            "text/plain": [
              "array([0.12852055, 0.61386144, 0.91624135, 0.85511625, 0.8385438 ,\n",
              "       0.8038415 , 0.45200485, 0.80137247, 0.1447444 , 0.14917874],\n",
              "      dtype=float32)"
            ]
          },
          "metadata": {},
          "execution_count": 16
        }
      ]
    }
  ]
}